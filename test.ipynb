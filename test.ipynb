{
 "cells": [
  {
   "cell_type": "code",
   "execution_count": 1,
   "metadata": {},
   "outputs": [
    {
     "name": "stdout",
     "output_type": "stream",
     "text": [
      "Requirement already satisfied: ortools in c:\\users\\msubki\\appdata\\local\\programs\\python\\python312\\lib\\site-packages (9.10.4067)\n",
      "Requirement already satisfied: absl-py>=2.0.0 in c:\\users\\msubki\\appdata\\local\\programs\\python\\python312\\lib\\site-packages (from ortools) (2.1.0)\n",
      "Requirement already satisfied: numpy>=1.13.3 in c:\\users\\msubki\\appdata\\local\\programs\\python\\python312\\lib\\site-packages (from ortools) (1.26.3)\n",
      "Requirement already satisfied: pandas>=2.0.0 in c:\\users\\msubki\\appdata\\local\\programs\\python\\python312\\lib\\site-packages (from ortools) (2.2.0)\n",
      "Requirement already satisfied: protobuf>=5.26.1 in c:\\users\\msubki\\appdata\\local\\programs\\python\\python312\\lib\\site-packages (from ortools) (5.28.1)\n",
      "Requirement already satisfied: immutabledict>=3.0.0 in c:\\users\\msubki\\appdata\\local\\programs\\python\\python312\\lib\\site-packages (from ortools) (4.2.0)\n",
      "Requirement already satisfied: python-dateutil>=2.8.2 in c:\\users\\msubki\\appdata\\roaming\\python\\python312\\site-packages (from pandas>=2.0.0->ortools) (2.8.2)\n",
      "Requirement already satisfied: pytz>=2020.1 in c:\\users\\msubki\\appdata\\local\\programs\\python\\python312\\lib\\site-packages (from pandas>=2.0.0->ortools) (2023.3.post1)\n",
      "Requirement already satisfied: tzdata>=2022.7 in c:\\users\\msubki\\appdata\\local\\programs\\python\\python312\\lib\\site-packages (from pandas>=2.0.0->ortools) (2023.4)\n",
      "Requirement already satisfied: six>=1.5 in c:\\users\\msubki\\appdata\\roaming\\python\\python312\\site-packages (from python-dateutil>=2.8.2->pandas>=2.0.0->ortools) (1.16.0)\n",
      "Note: you may need to restart the kernel to use updated packages.\n"
     ]
    },
    {
     "name": "stderr",
     "output_type": "stream",
     "text": [
      "\n",
      "[notice] A new release of pip is available: 23.2.1 -> 24.2\n",
      "[notice] To update, run: python.exe -m pip install --upgrade pip\n"
     ]
    }
   ],
   "source": [
    "pip install ortools"
   ]
  },
  {
   "cell_type": "code",
   "execution_count": 1,
   "metadata": {},
   "outputs": [
    {
     "name": "stdout",
     "output_type": "stream",
     "text": [
      "hello\n"
     ]
    }
   ],
   "source": [
    "print('hello')"
   ]
  }
 ],
 "metadata": {
  "kernelspec": {
   "display_name": "Python 3",
   "language": "python",
   "name": "python3"
  },
  "language_info": {
   "codemirror_mode": {
    "name": "ipython",
    "version": 3
   },
   "file_extension": ".py",
   "mimetype": "text/x-python",
   "name": "python",
   "nbconvert_exporter": "python",
   "pygments_lexer": "ipython3",
   "version": "3.12.1"
  }
 },
 "nbformat": 4,
 "nbformat_minor": 2
}
